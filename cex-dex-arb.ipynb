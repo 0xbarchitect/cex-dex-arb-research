{
 "cells": [
  {
   "cell_type": "markdown",
   "metadata": {},
   "source": [
    "## CEX-DEX Arbitrage Research\n",
    "\n",
    "Use this Notebook as the starting point for your CEX-DEX arbitrage research."
   ]
  },
  {
   "cell_type": "code",
   "execution_count": 1,
   "metadata": {},
   "outputs": [],
   "source": [
    "import os\n",
    "import asyncio\n",
    "import nest_asyncio\n",
    "import aioprocessing\n",
    "from functools import partial\n",
    "from dotenv import load_dotenv\n",
    "\n",
    "load_dotenv(override=True)\n",
    "\n",
    "HTTP_RPC_URL = os.getenv('HTTP_RPC_URL')\n",
    "WS_RPC_URL = os.getenv('WS_RPC_URL')"
   ]
  },
  {
   "cell_type": "markdown",
   "metadata": {},
   "source": [
    "#### Utils\n",
    "\n",
    "A function for handling websocket connection errors. Wrapping data streaming functions with **reconnecting_websocket_loop** will automatically reconnect everytime a connection error occurs."
   ]
  },
  {
   "cell_type": "code",
   "execution_count": 2,
   "metadata": {},
   "outputs": [],
   "source": [
    "from utils import (\n",
    "    reconnecting_websocket_loop,\n",
    "    calculate_next_block_base_fee,\n",
    ")"
   ]
  },
  {
   "cell_type": "markdown",
   "metadata": {},
   "source": [
    "#### CEX data streams\n",
    "\n",
    "Currently implemented for Binance websocket stream of depth5 data."
   ]
  },
  {
   "cell_type": "code",
   "execution_count": 3,
   "metadata": {},
   "outputs": [],
   "source": [
    "from cex_streams import (\n",
    "    stream_binance_usdm_orderbook,\n",
    "    stream_okx_usdm_orderbook,\n",
    ")"
   ]
  },
  {
   "cell_type": "markdown",
   "metadata": {},
   "source": [
    "#### DEX data streams"
   ]
  },
  {
   "cell_type": "code",
   "execution_count": 4,
   "metadata": {},
   "outputs": [],
   "source": [
    "from dex_streams import (\n",
    "    stream_new_blocks,\n",
    "    stream_uniswap_v2_events,\n",
    ")"
   ]
  },
  {
   "cell_type": "markdown",
   "metadata": {},
   "source": [
    "#### Aggregator"
   ]
  },
  {
   "cell_type": "code",
   "execution_count": 5,
   "metadata": {},
   "outputs": [],
   "source": [
    "from aggregator import aggregate_cex_orderbooks"
   ]
  },
  {
   "cell_type": "markdown",
   "metadata": {},
   "source": [
    "#### Event handler"
   ]
  },
  {
   "cell_type": "markdown",
   "metadata": {},
   "source": [
    "#### 1. CEX only event handler example:"
   ]
  },
  {
   "cell_type": "code",
   "execution_count": 6,
   "metadata": {},
   "outputs": [],
   "source": [
    "import datetime\n",
    "from spread_chart import Publisher\n",
    "\n",
    "\"\"\"\n",
    "Using taker fee to make spread calculations more realistic (Tier: LV 1)\n",
    "\n",
    "- OKX: https://www.okx.com/fees\n",
    "- Binance: https://www.binance.com/en/fee/futureFee\n",
    "\"\"\"\n",
    "FEE = {\n",
    "    'okx': 0.0005,      # 0.05%\n",
    "    'binance': 0.0004,  # 0.04%\n",
    "}\n",
    "\n",
    "async def cex_event_handler(port: int, event_queue: aioprocessing.AioQueue):   \n",
    "    \"\"\"\n",
    "    If you want to update the Finplot chart as you run this function,\n",
    "    run spread_chart.py from a separate terminal.\n",
    "    \"\"\"\n",
    "    pub = Publisher(port)\n",
    "\n",
    "    orderbooks = {}\n",
    "    \n",
    "    last_updated = datetime.datetime.now()\n",
    "    \n",
    "    while True:\n",
    "        data = await event_queue.coro_get()\n",
    "        \n",
    "        symbol = data['symbol']\n",
    "        \n",
    "        if data['source'] == 'cex':\n",
    "            if symbol not in orderbooks:\n",
    "                orderbooks[symbol] = {}\n",
    "                \n",
    "            orderbooks[symbol][data['exchange']] = data\n",
    "            multi_orderbook = aggregate_cex_orderbooks(orderbooks[symbol])\n",
    "            \n",
    "            now = datetime.datetime.now()\n",
    "            if (now - last_updated).total_seconds() > 1:\n",
    "                best_bid = multi_orderbook['bids'][0][0]\n",
    "                best_ask = multi_orderbook['asks'][0][0]\n",
    "                bid_ask_spread = round(float((best_bid / best_ask - 1) * 100), 3)\n",
    "                \n",
    "                best_bid_exchange = multi_orderbook['bids'][0][2]\n",
    "                best_ask_exchange = multi_orderbook['asks'][0][2]\n",
    "                target_exchanges = f'{best_bid_exchange}/{best_ask_exchange}'\n",
    "                \n",
    "                bid_fee = FEE[best_bid_exchange] * 2 * 100  # buy, sell fee (x2)\n",
    "                ask_fee = FEE[best_ask_exchange] * 2 * 100  # buy, sell fee (x2)\n",
    "                bid_ask_spread_real = bid_ask_spread - (bid_fee + ask_fee)\n",
    "                \n",
    "                await pub.send({'spread': bid_ask_spread_real})\n",
    "                \n",
    "                last_updated = now\n",
    "                print(f'[{now}] Spread: {bid_ask_spread_real}% ({target_exchanges})')"
   ]
  },
  {
   "cell_type": "markdown",
   "metadata": {},
   "source": [
    "#### 2. DEX only event handler example:"
   ]
  },
  {
   "cell_type": "code",
   "execution_count": 7,
   "metadata": {},
   "outputs": [],
   "source": [
    "import datetime\n",
    "from spread_chart import Publisher\n",
    "\n",
    "from simulator import UniswapV2Simulator\n",
    "\n",
    "FEE = {\n",
    "    'uniswap': 0.003,   # 0.3%\n",
    "    'sushiswap': 0.003, # 0.3%\n",
    "}\n",
    "\n",
    "async def dex_event_handler(port: int, event_queue: aioprocessing.AioQueue):\n",
    "    pub = Publisher(port)\n",
    "    sim = UniswapV2Simulator()\n",
    "    \n",
    "    block = {}\n",
    "    prices = {}\n",
    "    \n",
    "    while True:\n",
    "        data = await event_queue.coro_get()\n",
    "        \n",
    "        if data['source'] == 'block':\n",
    "            block = data\n",
    "        \n",
    "        elif data['source'] == 'dex':\n",
    "            event_type = data['type']\n",
    "            \n",
    "            if event_type == 'pool_update':\n",
    "                symbol = data['symbol']\n",
    "                token = symbol.replace('USDT', '')\n",
    "            \n",
    "                if symbol not in prices:\n",
    "                    prices[symbol] = {}\n",
    "                    \n",
    "                prices[symbol][data['exchange']] = data\n",
    "                \n",
    "                # A simple DEX aggregator with price from multiple DEX sources\n",
    "                dex_aggregator = {}\n",
    "                for exchange, _data in prices[symbol].items():\n",
    "                    token_idx = data['token_idx']\n",
    "                    decimals = list(_data['decimals'].values())\n",
    "                    reserves = list(_data['reserves'].values())\n",
    "                    # get the price of ETH/USDT: 1 ETH -> xxxx USDT\n",
    "                    price = sim.reserves_to_price(\n",
    "                        reserves[0],\n",
    "                        reserves[1],\n",
    "                        decimals[0],\n",
    "                        decimals[1],\n",
    "                        token_idx[token] == 0\n",
    "                    )\n",
    "                    dex_aggregator[exchange] = price\n",
    "                \n",
    "                best_path = None\n",
    "                best_spread = -1\n",
    "                \n",
    "                exchanges = list(dex_aggregator.keys())\n",
    "                for e_1 in exchanges:\n",
    "                    for e_2 in exchanges:\n",
    "                        if e_1 == e_2:\n",
    "                            continue\n",
    "                        \n",
    "                        p_sell = dex_aggregator[e_1]\n",
    "                        p_buy = dex_aggregator[e_2]\n",
    "                        \n",
    "                        spread = round(float((p_sell / p_buy - 1) * 100), 3)\n",
    "                        \n",
    "                        sell_fee = FEE[e_1] * 100\n",
    "                        buy_fee = FEE[e_2] * 100\n",
    "                        spread_real = spread - (sell_fee + buy_fee)\n",
    "                        \n",
    "                        if spread_real >= best_spread:\n",
    "                            best_path = f'{e_1}/{e_2}'\n",
    "                            best_spread = spread_real\n",
    "                            \n",
    "                if best_path:\n",
    "                    await pub.send({'spread': best_spread})\n",
    "                    now = datetime.datetime.now()\n",
    "                    print(f'[{now}] Block #{block.get(\"block_number\")} Spread: {best_spread}% ({best_path})')"
   ]
  },
  {
   "cell_type": "markdown",
   "metadata": {},
   "source": [
    "#### 3. CEX-DEX event handler example:"
   ]
  },
  {
   "cell_type": "code",
   "execution_count": 8,
   "metadata": {},
   "outputs": [],
   "source": [
    "import datetime\n",
    "from spread_chart import Publisher\n",
    "\n",
    "FEE = {\n",
    "    'okx': 0.0005,      # 0.05%\n",
    "    'binance': 0.0004,  # 0.04%\n",
    "    'uniswap': 0.003,   # 0.3%\n",
    "    'sushiswap': 0.003, # 0.3%\n",
    "}\n",
    "\n",
    "async def cex_dex_event_handler(port: int, event_queue: aioprocessing.AioQueue):\n",
    "    pass"
   ]
  },
  {
   "cell_type": "markdown",
   "metadata": {},
   "source": [
    "#### Run"
   ]
  },
  {
   "cell_type": "code",
   "execution_count": 9,
   "metadata": {},
   "outputs": [
    {
     "name": "stdout",
     "output_type": "stream",
     "text": [
      "[2023-08-08 20:17:24.493245] Spread: -0.131% (okx/binance)\n",
      "[2023-08-08 20:17:25.560118] Spread: -0.131% (okx/binance)\n",
      "[2023-08-08 20:17:26.591014] Spread: -0.131% (okx/binance)\n",
      "[2023-08-08 20:17:27.591171] Spread: -0.131% (okx/binance)\n",
      "[2023-08-08 20:17:28.740078] Spread: -0.131% (okx/binance)\n",
      "[2023-08-08 20:17:29.740611] Spread: -0.131% (okx/binance)\n",
      "[2023-08-08 20:17:30.868201] Spread: -0.131% (okx/binance)\n",
      "[2023-08-08 20:17:31.889776] Spread: -0.131% (okx/binance)\n",
      "[2023-08-08 20:17:32.911187] Spread: -0.131% (okx/binance)\n",
      "[2023-08-08 20:17:34.071931] Spread: -0.131% (okx/binance)\n",
      "[2023-08-08 20:17:35.095303] Spread: -0.136% (okx/binance)\n",
      "[2023-08-08 20:17:36.197007] Spread: -0.136% (okx/binance)\n",
      "[2023-08-08 20:17:37.259695] Spread: -0.136% (okx/binance)\n",
      "[2023-08-08 20:17:38.262923] Spread: -0.136% (okx/binance)\n",
      "[2023-08-08 20:17:39.283445] Spread: -0.136% (okx/binance)\n",
      "[2023-08-08 20:17:40.304117] Spread: -0.136% (okx/binance)\n",
      "[2023-08-08 20:17:41.347604] Spread: -0.146% (okx/binance)\n",
      "[2023-08-08 20:17:42.384513] Spread: -0.135% (okx/binance)\n",
      "[2023-08-08 20:17:43.410583] Spread: -0.135% (okx/binance)\n",
      "[2023-08-08 20:17:44.427396] Spread: -0.135% (okx/binance)\n",
      "[2023-08-08 20:17:45.496051] Spread: -0.135% (okx/binance)\n",
      "[2023-08-08 20:17:46.505393] Spread: -0.135% (okx/binance)\n",
      "[2023-08-08 20:17:47.584534] Spread: -0.135% (okx/binance)\n",
      "[2023-08-08 20:17:48.685515] Spread: -0.135% (okx/binance)\n",
      "[2023-08-08 20:17:49.795024] Spread: -0.135% (okx/binance)\n",
      "[2023-08-08 20:17:50.881889] Spread: -0.135% (okx/binance)\n",
      "[2023-08-08 20:17:51.888754] Spread: -0.135% (okx/binance)\n",
      "[2023-08-08 20:17:52.918386] Spread: -0.135% (okx/binance)\n",
      "[2023-08-08 20:17:54.049354] Spread: -0.135% (okx/binance)\n",
      "[2023-08-08 20:17:55.083769] Spread: -0.135% (okx/binance)\n",
      "[2023-08-08 20:17:56.084895] Spread: -0.135% (okx/binance)\n",
      "[2023-08-08 20:17:57.085742] Spread: -0.135% (okx/binance)\n",
      "[2023-08-08 20:17:58.087679] Spread: -0.135% (okx/binance)\n",
      "[2023-08-08 20:17:59.145570] Spread: -0.135% (okx/binance)\n",
      "[2023-08-08 20:18:00.184585] Spread: -0.135% (okx/binance)\n",
      "[2023-08-08 20:18:01.220295] Spread: -0.135% (okx/binance)\n",
      "[2023-08-08 20:18:02.269788] Spread: -0.135% (okx/binance)\n",
      "[2023-08-08 20:18:03.297665] Spread: -0.135% (okx/binance)\n",
      "[2023-08-08 20:18:04.386481] Spread: -0.135% (okx/binance)\n",
      "[2023-08-08 20:18:05.403647] Spread: -0.135% (okx/binance)\n",
      "[2023-08-08 20:18:06.523949] Spread: -0.135% (okx/binance)\n",
      "[2023-08-08 20:18:07.619279] Spread: -0.135% (okx/binance)\n",
      "[2023-08-08 20:18:08.688977] Spread: -0.135% (okx/binance)\n",
      "[2023-08-08 20:18:09.781354] Spread: -0.135% (okx/binance)\n",
      "[2023-08-08 20:18:10.843125] Spread: -0.135% (okx/binance)\n",
      "[2023-08-08 20:18:11.853043] Spread: -0.135% (okx/binance)\n",
      "[2023-08-08 20:18:12.876990] Spread: -0.135% (okx/binance)\n",
      "[2023-08-08 20:18:13.887139] Spread: -0.135% (okx/binance)\n",
      "[2023-08-08 20:18:14.967630] Spread: -0.135% (okx/binance)\n",
      "[2023-08-08 20:18:16.054259] Spread: -0.135% (okx/binance)\n",
      "[2023-08-08 20:18:17.056016] Spread: -0.135% (okx/binance)\n",
      "[2023-08-08 20:18:18.118240] Spread: -0.135% (okx/binance)\n",
      "[2023-08-08 20:18:19.170444] Spread: -0.135% (okx/binance)\n",
      "[2023-08-08 20:18:20.181978] Spread: -0.135% (okx/binance)\n",
      "[2023-08-08 20:18:21.187462] Spread: -0.135% (okx/binance)\n",
      "[2023-08-08 20:18:22.204420] Spread: -0.135% (okx/binance)\n",
      "[2023-08-08 20:18:23.285251] Spread: -0.135% (okx/binance)\n",
      "[2023-08-08 20:18:24.286571] Spread: -0.135% (okx/binance)\n",
      "[2023-08-08 20:18:25.289585] Spread: -0.135% (okx/binance)\n",
      "[2023-08-08 20:18:26.300711] Spread: -0.135% (okx/binance)\n",
      "[2023-08-08 20:18:27.407439] Spread: -0.135% (okx/binance)\n",
      "[2023-08-08 20:18:28.534315] Spread: -0.135% (okx/binance)\n",
      "[2023-08-08 20:18:29.660120] Spread: -0.142% (okx/binance)\n",
      "[2023-08-08 20:18:30.682216] Spread: -0.142% (okx/binance)\n",
      "[2023-08-08 20:18:31.683848] Spread: -0.142% (okx/binance)\n",
      "[2023-08-08 20:18:32.713908] Spread: -0.145% (okx/binance)\n",
      "[2023-08-08 20:18:33.779342] Spread: -0.145% (okx/binance)\n",
      "[2023-08-08 20:18:34.789226] Spread: -0.145% (okx/binance)\n",
      "[2023-08-08 20:18:35.861371] Spread: -0.145% (okx/binance)\n",
      "[2023-08-08 20:18:36.881881] Spread: -0.145% (okx/binance)\n",
      "[2023-08-08 20:18:38.030441] Spread: -0.145% (okx/binance)\n",
      "[2023-08-08 20:18:39.065358] Spread: -0.146% (okx/binance)\n",
      "[2023-08-08 20:18:40.087360] Spread: -0.142% (okx/binance)\n",
      "[2023-08-08 20:18:41.122523] Spread: -0.142% (okx/binance)\n",
      "[2023-08-08 20:18:42.200819] Spread: -0.142% (okx/binance)\n",
      "[2023-08-08 20:18:43.238530] Spread: -0.142% (okx/binance)\n",
      "[2023-08-08 20:18:44.283544] Spread: -0.13799999999999998% (okx/binance)\n",
      "[2023-08-08 20:18:45.298769] Spread: -0.13799999999999998% (okx/binance)\n",
      "[2023-08-08 20:18:46.366562] Spread: -0.13799999999999998% (okx/binance)\n",
      "[2023-08-08 20:18:47.402798] Spread: -0.133% (okx/binance)\n",
      "[2023-08-08 20:18:48.418430] Spread: -0.133% (okx/binance)\n",
      "[2023-08-08 20:18:49.438226] Spread: -0.133% (okx/binance)\n",
      "[2023-08-08 20:18:50.491095] Spread: -0.133% (okx/binance)\n",
      "[2023-08-08 20:18:51.583223] Spread: -0.133% (okx/binance)\n",
      "[2023-08-08 20:18:52.662074] Spread: -0.133% (okx/binance)\n",
      "[2023-08-08 20:18:53.681241] Spread: -0.133% (okx/binance)\n",
      "[2023-08-08 20:18:54.682237] Spread: -0.133% (okx/binance)\n"
     ]
    },
    {
     "name": "stdout",
     "output_type": "stream",
     "text": [
      "[2023-08-08 20:18:55.688801] Spread: -0.133% (okx/binance)\n"
     ]
    }
   ],
   "source": [
    "from threading import Thread\n",
    "\n",
    "from constants import TOKENS, POOLS\n",
    "\n",
    "def event_handler_loop(port: int, event_queue: aioprocessing.AioQueue):\n",
    "    asyncio.run(cex_event_handler(port, event_queue))\n",
    "\n",
    "# define an event_queue to publish realtime data\n",
    "event_queue = aioprocessing.AioQueue()\n",
    "\n",
    "symbols = ['ETH/USDT']\n",
    "\n",
    "# CEX related streams\n",
    "binance_stream = reconnecting_websocket_loop(\n",
    "    partial(stream_binance_usdm_orderbook, symbols, event_queue),\n",
    "    tag='binance_stream'\n",
    ")\n",
    "\n",
    "okx_stream = reconnecting_websocket_loop(\n",
    "    partial(stream_okx_usdm_orderbook, symbols, event_queue),\n",
    "    tag='okx_stream'\n",
    ")\n",
    "\n",
    "# DEX related streams\n",
    "new_blocks_stream = reconnecting_websocket_loop(\n",
    "    partial(stream_new_blocks, WS_RPC_URL, event_queue, False),\n",
    "    tag='new_blocks_stream'\n",
    ")\n",
    "\n",
    "uniswap_v2_stream = reconnecting_websocket_loop(\n",
    "    partial(stream_uniswap_v2_events, HTTP_RPC_URL, WS_RPC_URL, TOKENS, POOLS, event_queue, False),\n",
    "    tag='uniswap_v2_stream'\n",
    ")\n",
    "    \n",
    "# start event_handler_loop in a new thread\n",
    "chart_port = 9999\n",
    "\n",
    "t = Thread(target=event_handler_loop, args=(chart_port, event_queue,))\n",
    "t.start()\n",
    "\n",
    "nest_asyncio.apply()\n",
    "\n",
    "loop = asyncio.get_event_loop()\n",
    "loop.run_until_complete(asyncio.wait([\n",
    "    binance_stream,\n",
    "    okx_stream,\n",
    "    # new_blocks_stream,\n",
    "    # uniswap_v2_stream,\n",
    "]))"
   ]
  },
  {
   "cell_type": "code",
   "execution_count": null,
   "metadata": {},
   "outputs": [],
   "source": []
  }
 ],
 "metadata": {
  "kernelspec": {
   "display_name": "the_mole_game",
   "language": "python",
   "name": "python3"
  },
  "language_info": {
   "codemirror_mode": {
    "name": "ipython",
    "version": 3
   },
   "file_extension": ".py",
   "mimetype": "text/x-python",
   "name": "python",
   "nbconvert_exporter": "python",
   "pygments_lexer": "ipython3",
   "version": "3.10.12"
  },
  "orig_nbformat": 4
 },
 "nbformat": 4,
 "nbformat_minor": 2
}
