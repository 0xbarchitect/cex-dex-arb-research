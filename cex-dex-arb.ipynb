{
 "cells": [
  {
   "cell_type": "markdown",
   "metadata": {},
   "source": [
    "## CEX-DEX Arbitrage Research\n",
    "\n",
    "Use this Notebook as the starting point for your CEX-DEX arbitrage research."
   ]
  },
  {
   "cell_type": "code",
   "execution_count": 1,
   "metadata": {},
   "outputs": [],
   "source": [
    "import os\n",
    "import asyncio\n",
    "import nest_asyncio\n",
    "import aioprocessing\n",
    "from functools import partial\n",
    "from dotenv import load_dotenv\n",
    "\n",
    "load_dotenv(override=True)\n",
    "\n",
    "HTTP_RPC_URL = os.getenv('HTTP_RPC_URL')\n",
    "WS_RPC_URL = os.getenv('WS_RPC_URL')"
   ]
  },
  {
   "cell_type": "markdown",
   "metadata": {},
   "source": [
    "#### Utils\n",
    "\n",
    "A function for handling websocket connection errors. Wrapping data streaming functions with **reconnecting_websocket_loop** will automatically reconnect everytime a connection error occurs."
   ]
  },
  {
   "cell_type": "code",
   "execution_count": 2,
   "metadata": {},
   "outputs": [],
   "source": [
    "from utils import (\n",
    "    reconnecting_websocket_loop,\n",
    "    calculate_next_block_base_fee,\n",
    ")"
   ]
  },
  {
   "cell_type": "markdown",
   "metadata": {},
   "source": [
    "#### CEX data streams\n",
    "\n",
    "Currently implemented for Binance websocket stream of depth5 data."
   ]
  },
  {
   "cell_type": "code",
   "execution_count": 3,
   "metadata": {},
   "outputs": [],
   "source": [
    "from cex_streams import (\n",
    "    stream_binance_usdm_orderbook,\n",
    "    stream_okx_usdm_orderbook,\n",
    ")"
   ]
  },
  {
   "cell_type": "markdown",
   "metadata": {},
   "source": [
    "#### DEX data streams"
   ]
  },
  {
   "cell_type": "code",
   "execution_count": 4,
   "metadata": {},
   "outputs": [],
   "source": [
    "from dex_streams import (\n",
    "    stream_new_blocks,\n",
    "    stream_uniswap_v2_events,\n",
    ")"
   ]
  },
  {
   "cell_type": "markdown",
   "metadata": {},
   "source": [
    "#### Aggregator"
   ]
  },
  {
   "cell_type": "code",
   "execution_count": 5,
   "metadata": {},
   "outputs": [],
   "source": [
    "from aggregator import aggregate_cex_orderbooks"
   ]
  },
  {
   "cell_type": "markdown",
   "metadata": {},
   "source": [
    "#### Event handler"
   ]
  },
  {
   "cell_type": "code",
   "execution_count": 6,
   "metadata": {},
   "outputs": [],
   "source": [
    "import datetime\n",
    "from spread_chart import Publisher\n",
    "\n",
    "async def cex_event_handler(port: int, event_queue: aioprocessing.AioQueue):   \n",
    "    pub = Publisher(port)\n",
    "\n",
    "    orderbooks = {}\n",
    "    \n",
    "    last_updated = datetime.datetime.now()\n",
    "    \n",
    "    while True:\n",
    "        data = await event_queue.coro_get()\n",
    "        \n",
    "        symbol = data['symbol']\n",
    "        \n",
    "        if data['source'] == 'cex':\n",
    "            if symbol not in orderbooks:\n",
    "                orderbooks[symbol] = {}\n",
    "                \n",
    "            orderbooks[symbol][data['exchange']] = data\n",
    "            multi_orderbook = aggregate_cex_orderbooks(orderbooks[symbol])\n",
    "            \n",
    "            now = datetime.datetime.now()\n",
    "            if (now - last_updated).total_seconds() > 1:\n",
    "                best_bid = multi_orderbook['bids'][0][0]\n",
    "                best_ask = multi_orderbook['asks'][0][0]\n",
    "                bid_ask_spread = (best_bid / best_ask - 1) * 100\n",
    "                await pub.send({'spread': bid_as_spread})\n",
    "                \n",
    "                last_updated = now\n",
    "                print(f'[{now}] Spread: {round(bid_ask_spread, 3)}%')"
   ]
  },
  {
   "cell_type": "markdown",
   "metadata": {},
   "source": [
    "#### Run streams"
   ]
  },
  {
   "cell_type": "code",
   "execution_count": 7,
   "metadata": {},
   "outputs": [
    {
     "name": "stdout",
     "output_type": "stream",
     "text": [
      "[2023-08-08 16:03:58.625304] Spread: 0.034%\n",
      "[2023-08-08 16:03:59.695921] Spread: 0.034%\n",
      "[2023-08-08 16:04:00.707374] Spread: 0.034%\n",
      "[2023-08-08 16:04:01.709402] Spread: 0.034%\n",
      "[2023-08-08 16:04:02.733715] Spread: 0.034%\n",
      "[2023-08-08 16:04:03.865914] Spread: 0.034%\n",
      "[2023-08-08 16:04:04.920246] Spread: 0.034%\n"
     ]
    }
   ],
   "source": [
    "nest_asyncio.apply()\n",
    "\n",
    "# define an event_queue to publish realtime data\n",
    "event_queue = aioprocessing.AioQueue()\n",
    "\n",
    "symbols = ['ETH/USDT']\n",
    "\n",
    "binance_stream = reconnecting_websocket_loop(\n",
    "    partial(stream_binance_usdm_orderbook, symbols, event_queue),\n",
    "    tag='binance_stream'\n",
    ")\n",
    "\n",
    "okx_stream = reconnecting_websocket_loop(\n",
    "    partial(stream_okx_usdm_orderbook, symbols, event_queue),\n",
    "    tag='okx_stream'\n",
    ")\n",
    "\n",
    "port = 9999\n",
    "event_handler_loop = cex_event_handler(port, event_queue)\n",
    "\n",
    "loop = asyncio.get_event_loop()\n",
    "loop.run_until_complete(asyncio.wait([\n",
    "    binance_stream,\n",
    "    okx_stream,\n",
    "    event_handler_loop,\n",
    "]))"
   ]
  },
  {
   "cell_type": "code",
   "execution_count": null,
   "metadata": {},
   "outputs": [],
   "source": []
  },
  {
   "cell_type": "code",
   "execution_count": null,
   "metadata": {},
   "outputs": [],
   "source": []
  }
 ],
 "metadata": {
  "kernelspec": {
   "display_name": "the_mole_game",
   "language": "python",
   "name": "python3"
  },
  "language_info": {
   "codemirror_mode": {
    "name": "ipython",
    "version": 3
   },
   "file_extension": ".py",
   "mimetype": "text/x-python",
   "name": "python",
   "nbconvert_exporter": "python",
   "pygments_lexer": "ipython3",
   "version": "3.10.12"
  },
  "orig_nbformat": 4
 },
 "nbformat": 4,
 "nbformat_minor": 2
}
