{
 "cells": [
  {
   "cell_type": "markdown",
   "metadata": {},
   "source": [
    "## CEX-DEX Arbitrage Research\n",
    "\n",
    "Use this Notebook as the starting point for your CEX-DEX arbitrage research."
   ]
  },
  {
   "cell_type": "code",
   "execution_count": 1,
   "metadata": {},
   "outputs": [],
   "source": [
    "import os\n",
    "import asyncio\n",
    "import nest_asyncio\n",
    "import aioprocessing\n",
    "from functools import partial\n",
    "from dotenv import load_dotenv\n",
    "\n",
    "load_dotenv(override=True)\n",
    "\n",
    "HTTP_RPC_URL = os.getenv('HTTP_RPC_URL')\n",
    "WS_RPC_URL = os.getenv('WS_RPC_URL')"
   ]
  },
  {
   "cell_type": "markdown",
   "metadata": {},
   "source": [
    "#### Utils\n",
    "\n",
    "A function for handling websocket connection errors. Wrapping data streaming functions with **reconnecting_websocket_loop** will automatically reconnect everytime a connection error occurs."
   ]
  },
  {
   "cell_type": "code",
   "execution_count": 2,
   "metadata": {},
   "outputs": [],
   "source": [
    "from utils import (\n",
    "    reconnecting_websocket_loop,\n",
    "    calculate_next_block_base_fee,\n",
    ")"
   ]
  },
  {
   "cell_type": "markdown",
   "metadata": {},
   "source": [
    "#### CEX data streams\n",
    "\n",
    "Currently implemented for Binance websocket stream of depth5 data."
   ]
  },
  {
   "cell_type": "code",
   "execution_count": 3,
   "metadata": {},
   "outputs": [],
   "source": [
    "from cex_streams import (\n",
    "    stream_binance_usdm_orderbook,\n",
    "    stream_okx_usdm_orderbook,\n",
    ")"
   ]
  },
  {
   "cell_type": "markdown",
   "metadata": {},
   "source": [
    "#### DEX data streams"
   ]
  },
  {
   "cell_type": "code",
   "execution_count": 4,
   "metadata": {},
   "outputs": [],
   "source": [
    "from dex_streams import (\n",
    "    stream_new_blocks,\n",
    "    stream_uniswap_v2_events,\n",
    ")"
   ]
  },
  {
   "cell_type": "markdown",
   "metadata": {},
   "source": [
    "#### Aggregator"
   ]
  },
  {
   "cell_type": "code",
   "execution_count": 5,
   "metadata": {},
   "outputs": [],
   "source": [
    "from aggregator import aggregate_cex_orderbooks"
   ]
  },
  {
   "cell_type": "markdown",
   "metadata": {},
   "source": [
    "#### Event handler"
   ]
  },
  {
   "cell_type": "code",
   "execution_count": 6,
   "metadata": {},
   "outputs": [],
   "source": [
    "import datetime\n",
    "from spread_chart import Publisher\n",
    "\n",
    "\"\"\"\n",
    "Using taker fee to make spread calculations more realistic (Tier: LV 1)\n",
    "\n",
    "- OKX: https://www.okx.com/fees\n",
    "- Binance: https://www.binance.com/en/fee/futureFee\n",
    "\"\"\"\n",
    "FEE = {\n",
    "    'okx': 0.0005,      # 0.05%\n",
    "    'binance': 0.0004,  # 0.04%\n",
    "}\n",
    "\n",
    "async def cex_event_handler(port: int, event_queue: aioprocessing.AioQueue):   \n",
    "    pub = Publisher(port)\n",
    "\n",
    "    orderbooks = {}\n",
    "    \n",
    "    last_updated = datetime.datetime.now()\n",
    "    \n",
    "    while True:\n",
    "        data = await event_queue.coro_get()\n",
    "        \n",
    "        symbol = data['symbol']\n",
    "        \n",
    "        if data['source'] == 'cex':\n",
    "            if symbol not in orderbooks:\n",
    "                orderbooks[symbol] = {}\n",
    "                \n",
    "            orderbooks[symbol][data['exchange']] = data\n",
    "            multi_orderbook = aggregate_cex_orderbooks(orderbooks[symbol])\n",
    "            \n",
    "            now = datetime.datetime.now()\n",
    "            if (now - last_updated).total_seconds() > 1:\n",
    "                best_bid = multi_orderbook['bids'][0][0]\n",
    "                best_ask = multi_orderbook['asks'][0][0]\n",
    "                bid_ask_spread = round(float((best_bid / best_ask - 1) * 100), 3)\n",
    "                \n",
    "                best_bid_exchange = multi_orderbook['bids'][0][2]\n",
    "                best_ask_exchange = multi_orderbook['asks'][0][2]\n",
    "                target_exchanges = f'{best_bid_exchange}/{best_ask_exchange}'\n",
    "                \n",
    "                bid_fee = FEE[best_bid_exchange] * 2 * 100  # buy, sell fee (x2)\n",
    "                ask_fee = FEE[best_ask_exchange] * 2 * 100  # buy, sell fee (x2)\n",
    "                bid_ask_spread_real = bid_ask_spread - (bid_fee - ask_fee)\n",
    "                \n",
    "                await pub.send({'spread': bid_ask_spread_real})\n",
    "                \n",
    "                last_updated = now\n",
    "                print(f'[{now}] Spread: {bid_ask_spread_real}% ({target_exchanges})')"
   ]
  },
  {
   "cell_type": "markdown",
   "metadata": {},
   "source": [
    "#### Run streams"
   ]
  },
  {
   "cell_type": "code",
   "execution_count": 7,
   "metadata": {},
   "outputs": [
    {
     "name": "stdout",
     "output_type": "stream",
     "text": [
      "[2023-08-08 18:29:13.845864] Spread: 0.058% (okx/binance)\n",
      "[2023-08-08 18:29:14.860689] Spread: 0.058% (okx/binance)\n",
      "[2023-08-08 18:29:15.942755] Spread: 0.058% (okx/binance)\n",
      "[2023-08-08 18:29:17.026610] Spread: 0.058% (okx/binance)\n",
      "[2023-08-08 18:29:18.050501] Spread: 0.058% (okx/binance)\n",
      "[2023-08-08 18:29:19.184212] Spread: 0.058% (okx/binance)\n",
      "[2023-08-08 18:29:20.208681] Spread: 0.062% (okx/binance)\n",
      "[2023-08-08 18:29:21.253464] Spread: 0.062% (okx/binance)\n",
      "[2023-08-08 18:29:22.266899] Spread: 0.062% (okx/binance)\n",
      "[2023-08-08 18:29:23.322959] Spread: 0.062% (okx/binance)\n",
      "[2023-08-08 18:29:24.356917] Spread: 0.062% (okx/binance)\n",
      "[2023-08-08 18:29:25.430344] Spread: 0.062% (okx/binance)\n",
      "[2023-08-08 18:29:26.448566] Spread: 0.062% (okx/binance)\n",
      "[2023-08-08 18:29:27.448862] Spread: 0.062% (okx/binance)\n",
      "[2023-08-08 18:29:28.502045] Spread: 0.062% (okx/binance)\n",
      "[2023-08-08 18:29:29.557245] Spread: 0.062% (okx/binance)\n",
      "[2023-08-08 18:29:30.571954] Spread: 0.062% (okx/binance)\n",
      "[2023-08-08 18:29:31.644561] Spread: 0.062% (okx/binance)\n",
      "[2023-08-08 18:29:32.656736] Spread: 0.062% (okx/binance)\n",
      "[2023-08-08 18:29:33.687228] Spread: 0.062% (okx/binance)\n",
      "[2023-08-08 18:29:34.724328] Spread: 0.062% (okx/binance)\n",
      "[2023-08-08 18:29:35.748877] Spread: 0.062% (okx/binance)\n",
      "[2023-08-08 18:29:36.752506] Spread: 0.062% (okx/binance)\n"
     ]
    },
    {
     "name": "stdout",
     "output_type": "stream",
     "text": [
      "[2023-08-08 18:29:37.786373] Spread: 0.062% (okx/binance)\n",
      "[2023-08-08 18:29:38.862983] Spread: 0.062% (okx/binance)\n"
     ]
    }
   ],
   "source": [
    "from threading import Thread\n",
    "\n",
    "def event_handler_loop(port: int, event_queue: aioprocessing.AioQueue):\n",
    "    asyncio.run(cex_event_handler(port, event_queue))\n",
    "\n",
    "# define an event_queue to publish realtime data\n",
    "event_queue = aioprocessing.AioQueue()\n",
    "\n",
    "symbols = ['ETH/USDT']\n",
    "\n",
    "binance_stream = reconnecting_websocket_loop(\n",
    "    partial(stream_binance_usdm_orderbook, symbols, event_queue),\n",
    "    tag='binance_stream'\n",
    ")\n",
    "\n",
    "okx_stream = reconnecting_websocket_loop(\n",
    "    partial(stream_okx_usdm_orderbook, symbols, event_queue),\n",
    "    tag='okx_stream'\n",
    ")\n",
    "    \n",
    "# start event_handler_loop in a new thread\n",
    "chart_port = 9999\n",
    "\n",
    "t = Thread(target=event_handler_loop, args=(chart_port, event_queue,))\n",
    "t.start()\n",
    "\n",
    "nest_asyncio.apply()\n",
    "\n",
    "loop = asyncio.get_event_loop()\n",
    "loop.run_until_complete(asyncio.wait([\n",
    "    binance_stream,\n",
    "    okx_stream,\n",
    "]))"
   ]
  },
  {
   "cell_type": "code",
   "execution_count": null,
   "metadata": {},
   "outputs": [],
   "source": []
  }
 ],
 "metadata": {
  "kernelspec": {
   "display_name": "the_mole_game",
   "language": "python",
   "name": "python3"
  },
  "language_info": {
   "codemirror_mode": {
    "name": "ipython",
    "version": 3
   },
   "file_extension": ".py",
   "mimetype": "text/x-python",
   "name": "python",
   "nbconvert_exporter": "python",
   "pygments_lexer": "ipython3",
   "version": "3.10.12"
  },
  "orig_nbformat": 4
 },
 "nbformat": 4,
 "nbformat_minor": 2
}
